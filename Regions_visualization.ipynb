{
  "cells": [
    {
      "cell_type": "markdown",
      "metadata": {
        "colab_type": "text",
        "id": "view-in-github"
      },
      "source": [
        "<a href=\"https://colab.research.google.com/github/andanil/Z-RNA-prediction-tool/blob/main/Regions_visualization.ipynb\" target=\"_parent\"><img src=\"https://colab.research.google.com/assets/colab-badge.svg\" alt=\"Open In Colab\"/></a>"
      ]
    },
    {
      "cell_type": "markdown",
      "metadata": {
        "id": "MXN96aSdNe7g"
      },
      "source": [
        "## Install dependecies and necessary files"
      ]
    },
    {
      "cell_type": "code",
      "execution_count": null,
      "metadata": {
        "id": "rejH5BJ-Ni4n"
      },
      "outputs": [],
      "source": [
        "! pip install pysam\n",
        "! pip install -q condacolab"
      ]
    },
    {
      "cell_type": "code",
      "execution_count": null,
      "metadata": {
        "id": "RwUJQYGKN345"
      },
      "outputs": [],
      "source": [
        "import condacolab\n",
        "condacolab.install()"
      ]
    },
    {
      "cell_type": "code",
      "execution_count": null,
      "metadata": {
        "id": "PFj9KmihN7Dp"
      },
      "outputs": [],
      "source": [
        "! conda install -y -c bioconda viennarna"
      ]
    },
    {
      "cell_type": "code",
      "execution_count": null,
      "metadata": {
        "id": "vAs87n-KNmxi"
      },
      "outputs": [],
      "source": [
        "! wget http://hgdownload.soe.ucsc.edu/goldenPath/hg38/bigZips/hg38.fa.gz\n",
        "! gzip -d hg38.fa.gz"
      ]
    },
    {
      "cell_type": "code",
      "execution_count": null,
      "metadata": {
        "id": "hrk7Oc7rbEaX"
      },
      "outputs": [],
      "source": [
        "! git clone https://github.com/andanil/Z-RNA-prediction-tool.git"
      ]
    },
    {
      "cell_type": "code",
      "execution_count": 10,
      "metadata": {
        "id": "Zbaq9dbkg-kV"
      },
      "outputs": [],
      "source": [
        "from google.colab import files\n",
        "\n",
        "import pysam\n",
        "import pandas as pd\n",
        "\n",
        "import sys\n",
        "sys.path.insert(0, \"/content/Z-RNA-prediction-tool\")"
      ]
    },
    {
      "cell_type": "code",
      "execution_count": 3,
      "metadata": {
        "id": "SE9LGCx5hGTs"
      },
      "outputs": [],
      "source": [
        "genome = pysam.FastaFile('hg38.fa')"
      ]
    },
    {
      "cell_type": "code",
      "execution_count": 4,
      "metadata": {
        "id": "kWvTpphrftIk"
      },
      "outputs": [],
      "source": [
        "from src.utils import from_chrom_to_seq_coord_padding_based\n",
        "from src.rna.plot_rna import plot_rna, save_image\n",
        "from src.rna_struct_analyser import get_struct"
      ]
    },
    {
      "cell_type": "markdown",
      "metadata": {
        "id": "tK5d31Q8eeo3"
      },
      "source": [
        "## Visualization\n",
        "Get and plot RNA secondary structure for provided regions"
      ]
    },
    {
      "cell_type": "code",
      "execution_count": null,
      "metadata": {
        "id": "ngneiG5MrTij"
      },
      "outputs": [],
      "source": [
        "# upload your own data\n",
        "uploaded = files.upload()\n",
        "filename = list(uploaded.keys())[0]\n"
      ]
    },
    {
      "cell_type": "code",
      "execution_count": null,
      "metadata": {
        "id": "KPlFC0RtsFKe"
      },
      "outputs": [],
      "source": [
        "# OR use file from examples\n",
        "filename = '/content/Z-RNA-prediction-tool/examples/Z-DNABERT_sample.bed'"
      ]
    },
    {
      "cell_type": "code",
      "execution_count": 20,
      "metadata": {
        "id": "3j50Mk7Zr5-y"
      },
      "outputs": [],
      "source": [
        "data = pd.read_csv(filename, sep='\\t', names=['chr', 'start', 'end'])\n",
        "data.head()"
      ]
    },
    {
      "cell_type": "code",
      "execution_count": 22,
      "metadata": {
        "id": "OWTtfbe1s4CJ"
      },
      "outputs": [],
      "source": [
        "padding = 50\n",
        "for i, row in data.iterrows():\n",
        "    rna_struct = get_struct(genome, row['chr'], row['start'], row['end'], padding)\n",
        "    plot_rna(rna_struct,\n",
        "                title=f\"Chrom {row['chr']}; Start: {row['start'] - padding}, End: {row['end'] + padding}\",\n",
        "                region_coord=from_chrom_to_seq_coord_padding_based([row['start'], row['end']], padding)\n",
        "            )\n",
        "\n",
        "save_image(\"examples.pdf\")"
      ]
    },
    {
      "cell_type": "code",
      "execution_count": null,
      "metadata": {},
      "outputs": [],
      "source": [
        "# download file locally\n",
        "files.download(\"examples.pdf\")"
      ]
    }
  ],
  "metadata": {
    "colab": {
      "authorship_tag": "ABX9TyMszE4Vxj07uQ1hjnTt6mwS",
      "include_colab_link": true,
      "provenance": []
    },
    "kernelspec": {
      "display_name": "Python 3",
      "name": "python3"
    },
    "language_info": {
      "name": "python"
    }
  },
  "nbformat": 4,
  "nbformat_minor": 0
}
