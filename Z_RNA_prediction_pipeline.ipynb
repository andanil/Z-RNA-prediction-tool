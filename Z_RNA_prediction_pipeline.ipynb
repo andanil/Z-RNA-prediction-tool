{
  "cells": [
    {
      "cell_type": "markdown",
      "metadata": {
        "colab_type": "text",
        "id": "view-in-github"
      },
      "source": [
        "<a href=\"https://colab.research.google.com/github/andanil/Z-RNA-prediction-tool/blob/main/Z_RNA_prediction_pipeline.ipynb\" target=\"_parent\"><img src=\"https://colab.research.google.com/assets/colab-badge.svg\" alt=\"Open In Colab\"/></a>"
      ]
    },
    {
      "cell_type": "markdown",
      "metadata": {
        "id": "F1bRhCmcuK4-"
      },
      "source": [
        "## Install dependecies and necessary files"
      ]
    },
    {
      "cell_type": "code",
      "execution_count": null,
      "metadata": {
        "id": "P_5y6OS8MA3V"
      },
      "outputs": [],
      "source": [
        "! pip install pysam\n",
        "! pip install -q condacolab"
      ]
    },
    {
      "cell_type": "code",
      "execution_count": null,
      "metadata": {
        "id": "A0gPnbcbuP83"
      },
      "outputs": [],
      "source": [
        "import condacolab\n",
        "condacolab.install()"
      ]
    },
    {
      "cell_type": "code",
      "execution_count": null,
      "metadata": {
        "id": "Jjwf1fvIuREl"
      },
      "outputs": [],
      "source": [
        "! conda install -y -c bioconda viennarna"
      ]
    },
    {
      "cell_type": "code",
      "execution_count": null,
      "metadata": {
        "id": "_vywbzhhuYtY"
      },
      "outputs": [],
      "source": [
        "! wget http://hgdownload.soe.ucsc.edu/goldenPath/hg38/bigZips/hg38.fa.gz\n",
        "! gzip -d hg38.fa.gz"
      ]
    },
    {
      "cell_type": "code",
      "execution_count": null,
      "metadata": {
        "id": "C_W8nwbYucZ_"
      },
      "outputs": [],
      "source": [
        "! git clone https://github.com/andanil/Z-RNA-prediction-tool.git"
      ]
    },
    {
      "cell_type": "code",
      "execution_count": 2,
      "metadata": {
        "id": "SRLIs9ZMudvE"
      },
      "outputs": [],
      "source": [
        "from google.colab import files\n",
        "\n",
        "import pysam\n",
        "import numpy as np\n",
        "import pandas as pd\n",
        "from tqdm import tqdm\n",
        "\n",
        "import os\n",
        "import sys\n",
        "sys.path.insert(0, \"/content/Z-RNA-prediction-tool\")"
      ]
    },
    {
      "cell_type": "code",
      "execution_count": null,
      "metadata": {
        "id": "bJBQAnbRugBF"
      },
      "outputs": [],
      "source": [
        "from src.config import ZHUNT_FILE\n",
        "\n",
        "! chmod 777 {ZHUNT_FILE}"
      ]
    },
    {
      "cell_type": "code",
      "execution_count": null,
      "metadata": {
        "id": "kVgk7J71ugTC"
      },
      "outputs": [],
      "source": [
        "genome = pysam.FastaFile('hg38.fa')"
      ]
    },
    {
      "cell_type": "code",
      "execution_count": null,
      "metadata": {
        "id": "L99_mtLUujC7"
      },
      "outputs": [],
      "source": [
        "from src.utils import from_chrom_to_seq_coord, get_seq_around_pos, reverse_region\n",
        "from src.rna_struct_analyser import get_zrna_struct"
      ]
    },
    {
      "cell_type": "markdown",
      "metadata": {
        "id": "aqwlMntQukhZ"
      },
      "source": [
        "## Read data"
      ]
    },
    {
      "cell_type": "code",
      "execution_count": null,
      "metadata": {
        "id": "O33PlfmFvu0-"
      },
      "outputs": [],
      "source": [
        "# upload file with Z-DNA regions\n",
        "uploaded = files.upload()\n",
        "filename = list(uploaded.keys())[0]"
      ]
    },
    {
      "cell_type": "code",
      "execution_count": 3,
      "metadata": {},
      "outputs": [],
      "source": [
        "# OR use file from examples\n",
        "filename = '/content/Z-RNA-prediction-tool/examples/zdna.tsv'"
      ]
    },
    {
      "cell_type": "code",
      "execution_count": 6,
      "metadata": {
        "id": "Bd-gxXFGvpGY"
      },
      "outputs": [],
      "source": [
        "zdna_predicted_regions = pd.read_csv(filename, sep='\\t', names=['chr', 'start', 'end'])"
      ]
    },
    {
      "cell_type": "code",
      "execution_count": 7,
      "metadata": {},
      "outputs": [
        {
          "data": {
            "text/html": [
              "<div>\n",
              "<style scoped>\n",
              "    .dataframe tbody tr th:only-of-type {\n",
              "        vertical-align: middle;\n",
              "    }\n",
              "\n",
              "    .dataframe tbody tr th {\n",
              "        vertical-align: top;\n",
              "    }\n",
              "\n",
              "    .dataframe thead th {\n",
              "        text-align: right;\n",
              "    }\n",
              "</style>\n",
              "<table border=\"1\" class=\"dataframe\">\n",
              "  <thead>\n",
              "    <tr style=\"text-align: right;\">\n",
              "      <th></th>\n",
              "      <th>chr</th>\n",
              "      <th>start</th>\n",
              "      <th>end</th>\n",
              "    </tr>\n",
              "  </thead>\n",
              "  <tbody>\n",
              "    <tr>\n",
              "      <th>0</th>\n",
              "      <td>chr1</td>\n",
              "      <td>1330067</td>\n",
              "      <td>1330097</td>\n",
              "    </tr>\n",
              "    <tr>\n",
              "      <th>1</th>\n",
              "      <td>chr1</td>\n",
              "      <td>1674826</td>\n",
              "      <td>1674848</td>\n",
              "    </tr>\n",
              "    <tr>\n",
              "      <th>2</th>\n",
              "      <td>chr1</td>\n",
              "      <td>1755509</td>\n",
              "      <td>1755528</td>\n",
              "    </tr>\n",
              "    <tr>\n",
              "      <th>3</th>\n",
              "      <td>chr1</td>\n",
              "      <td>2189665</td>\n",
              "      <td>2189680</td>\n",
              "    </tr>\n",
              "    <tr>\n",
              "      <th>4</th>\n",
              "      <td>chr1</td>\n",
              "      <td>2567823</td>\n",
              "      <td>2567837</td>\n",
              "    </tr>\n",
              "  </tbody>\n",
              "</table>\n",
              "</div>"
            ],
            "text/plain": [
              "    chr    start      end\n",
              "0  chr1  1330067  1330097\n",
              "1  chr1  1674826  1674848\n",
              "2  chr1  1755509  1755528\n",
              "3  chr1  2189665  2189680\n",
              "4  chr1  2567823  2567837"
            ]
          },
          "execution_count": 7,
          "metadata": {},
          "output_type": "execute_result"
        }
      ],
      "source": [
        "zdna_predicted_regions.head()"
      ]
    },
    {
      "cell_type": "markdown",
      "metadata": {
        "id": "JLjEL9-2wFU_"
      },
      "source": [
        "## Find regions that fall in stems"
      ]
    },
    {
      "cell_type": "markdown",
      "metadata": {
        "id": "PTlNwCDMwRtx"
      },
      "source": [
        "### Define some useful functions"
      ]
    },
    {
      "cell_type": "code",
      "execution_count": null,
      "metadata": {
        "id": "Ob8u9mLtwApM"
      },
      "outputs": [],
      "source": [
        "def overlap(region_1, region_2):\n",
        "    return max(min(region_1[1], region_2[1]) - max(region_1[0], region_2[0]) + 1, 0)\n",
        "\n",
        "def is_overlap_n(zdna_region, stem_coord, n_bp):\n",
        "    if zdna_region[0] > stem_coord[1]:\n",
        "        n_overlap = overlap(zdna_region, [stem_coord[2], stem_coord[3]])\n",
        "    else:\n",
        "        n_overlap = overlap(zdna_region, [stem_coord[0], stem_coord[1]])\n",
        "    if len(stem_coord) == 4:\n",
        "        return (n_overlap >= n_bp, n_overlap, 0)\n",
        "\n",
        "    n_unpaired = 0\n",
        "    for bulge in stem_coord[4]:\n",
        "        overlap_unpaired = overlap(zdna_region, bulge.unpaired)\n",
        "        if overlap_unpaired > 0:\n",
        "            n_unpaired += overlap_unpaired\n",
        "            n_overlap -= overlap_unpaired\n",
        "        elif overlap(zdna_region, bulge.opposite) == 2:\n",
        "            n_unpaired += bulge.len_unpaired()\n",
        "    return (n_overlap >= n_bp, n_overlap, n_unpaired)\n",
        "\n",
        "def is_in_stem(stems_coord, zdna_region):\n",
        "    res = (False, -1, -1)\n",
        "    for stem_coord in stems_coord:\n",
        "        if not (zdna_region[1] < stem_coord[0] or zdna_region[0] > stem_coord[3] or\n",
        "                (zdna_region[0] > stem_coord[1] and zdna_region[1] < stem_coord[2])):\n",
        "            interm_res = is_overlap_n(zdna_region, stem_coord, 6)\n",
        "            if interm_res[1] > res[1]:\n",
        "                res = interm_res\n",
        "    return res\n",
        "\n",
        "def analyse_struct(genome, window, chrom, zdna_region, union=False):\n",
        "    middle = int((zdna_region[0] + zdna_region[1]) / 2)\n",
        "    seq = get_seq_around_pos(genome, chrom, middle, window).upper()\n",
        "    rna_struct = get_zrna_struct(seq, -1)\n",
        "    region_in_struct = from_chrom_to_seq_coord(zdna_region, middle, window[0], len(rna_struct))\n",
        "    stems_coord = rna_struct.get_stems_union() if union else rna_struct.get_stems_coord()\n",
        "    result = is_in_stem(stems_coord, region_in_struct)\n",
        "    if not result[0]:\n",
        "        rna_struct.reset_graph_type(False)\n",
        "        stems_coord = rna_struct.get_stems_union() if union else rna_struct.get_stems_coord()\n",
        "        reversed_region = reverse_region(region_in_struct, len(rna_struct))\n",
        "        return (*is_in_stem(stems_coord, reversed_region), '-'), rna_struct\n",
        "    return (*result, '+'), rna_struct\n",
        "\n",
        "def iterate_through_windows(genome, windows, chrom, zdna_region, union=False):\n",
        "    rna_structs = []\n",
        "    results = []\n",
        "    for window in windows:\n",
        "        result, rna_struct = analyse_struct(genome, window, chrom, zdna_region, union)\n",
        "        if result[0]:\n",
        "            rna_structs += [rna_struct]\n",
        "            results += [result]\n",
        "    if not rna_structs:\n",
        "        return result\n",
        "    index = rna_structs.index(max(rna_structs))\n",
        "    return (*results[index], rna_structs[index].zh_score, len(rna_structs[index]), len(rna_structs))\n",
        "\n",
        "def is_in_any_stem(genome, windows, chrom, zdna_region):\n",
        "    result = iterate_through_windows(genome, windows, chrom, zdna_region)\n",
        "    if not result[0]:\n",
        "        return iterate_through_windows(genome, windows, chrom, zdna_region, union=True)\n",
        "    return result"
      ]
    },
    {
      "cell_type": "code",
      "execution_count": null,
      "metadata": {
        "id": "RLSS7PHGwqzn"
      },
      "outputs": [],
      "source": [
        "def run_search(data, k):\n",
        "    windows = [[150, 150], [250, 250], [500, 500]]\n",
        "    N = 5000\n",
        "    zrna_in_stems = pd.DataFrame()\n",
        "    for i, row in tqdm(data.iterrows(), total=N):\n",
        "        result = is_in_any_stem(genome, windows, row['chr'], (row['start'], row['end']))\n",
        "        if result[0]:\n",
        "            zrna_in_stems = pd.concat([zrna_in_stems, pd.DataFrame([{'chr':row['chr'],\n",
        "                                                                      'start':row['start'],\n",
        "                                                                      'end':row['end'],\n",
        "                                                                      'overlap': result[1],\n",
        "                                                                      'zh-score': result[4],\n",
        "                                                                      'not paired': result[2],\n",
        "                                                                      'window': result[5],\n",
        "                                                                      'strand': result[3],\n",
        "                                                                      'n_structs': result[6]}])],\n",
        "                                      ignore_index=True)\n",
        "    zrna_in_stems.to_csv(f'./zrna/in_stems_{k}.bed', sep='\\t', index=False)"
      ]
    },
    {
      "cell_type": "markdown",
      "metadata": {
        "id": "f96Pb4pkwafV"
      },
      "source": [
        "### Searching"
      ]
    },
    {
      "cell_type": "code",
      "execution_count": null,
      "metadata": {
        "id": "7agZldUxw5IR"
      },
      "outputs": [],
      "source": [
        "from multiprocessing import Process\n",
        "\n",
        "def run_parallel(function, data_batches, n):\n",
        "    processes = []\n",
        "    for i, data in enumerate(data_batches):\n",
        "        proc = Process(target=function, args=(data, n + i))\n",
        "        proc.start()\n",
        "        processes.append(proc)\n",
        "    for proc in processes:\n",
        "        proc.join()"
      ]
    },
    {
      "cell_type": "code",
      "execution_count": null,
      "metadata": {},
      "outputs": [],
      "source": [
        "! mkdir zrna"
      ]
    },
    {
      "cell_type": "code",
      "execution_count": null,
      "metadata": {
        "id": "JtctkkH_zSh9"
      },
      "outputs": [],
      "source": [
        "k = 0\n",
        "N = 5000\n",
        "\n",
        "data_list = []\n",
        "while k * N < len(zdna_predicted_regions):\n",
        "    data_list += [zdna_predicted_regions.iloc[k * N: min((k + 1) * N, len(zdna_predicted_regions))]]\n",
        "    k += 1"
      ]
    },
    {
      "cell_type": "code",
      "execution_count": null,
      "metadata": {
        "id": "FBPJZsVmzVVY"
      },
      "outputs": [],
      "source": [
        "k = 0\n",
        "n = 10\n",
        "while k * n < len(data_list):\n",
        "    run_parallel(run_search, data_list[k * n:  min((k + 1) * n, len(data_list))], n*k)\n",
        "    k += 1"
      ]
    },
    {
      "cell_type": "markdown",
      "metadata": {},
      "source": [
        "### Final results"
      ]
    },
    {
      "cell_type": "code",
      "execution_count": null,
      "metadata": {},
      "outputs": [],
      "source": [
        "data_list = []\n",
        "for file in os.listdir('./zrna'):\n",
        "    data_list += [pd.read_csv('./zrna/' + file, sep='\\t')]\n",
        "data = pd.concat(data_list)\n",
        "data.head()"
      ]
    },
    {
      "cell_type": "code",
      "execution_count": null,
      "metadata": {},
      "outputs": [],
      "source": [
        "data_with_not_paired = data[data['not paired'] > 0]\n",
        "data = data[data['not paired'] == 0]"
      ]
    },
    {
      "cell_type": "code",
      "execution_count": null,
      "metadata": {},
      "outputs": [],
      "source": [
        "data.to_csv('zrna perfectly paired bases.bed', sep='\\t', index=False)\n",
        "data_with_not_paired.to_csv('zrna with unpaired bases.bed', sep='\\t', index=False)"
      ]
    },
    {
      "cell_type": "code",
      "execution_count": null,
      "metadata": {},
      "outputs": [],
      "source": [
        "files.download('zrna perfectly paired bases.bed')\n",
        "files.download('zrna with unpaired bases.bed')"
      ]
    }
  ],
  "metadata": {
    "colab": {
      "authorship_tag": "ABX9TyMxBhoYyQr5NpfpaMiGbNug",
      "include_colab_link": true,
      "provenance": []
    },
    "kernelspec": {
      "display_name": "Python 3",
      "name": "python3"
    },
    "language_info": {
      "codemirror_mode": {
        "name": "ipython",
        "version": 3
      },
      "file_extension": ".py",
      "mimetype": "text/x-python",
      "name": "python",
      "nbconvert_exporter": "python",
      "pygments_lexer": "ipython3",
      "version": "3.8.5"
    }
  },
  "nbformat": 4,
  "nbformat_minor": 0
}
