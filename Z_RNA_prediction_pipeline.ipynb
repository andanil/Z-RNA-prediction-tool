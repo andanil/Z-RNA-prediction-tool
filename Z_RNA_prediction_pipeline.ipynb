{
  "nbformat": 4,
  "nbformat_minor": 0,
  "metadata": {
    "colab": {
      "provenance": [],
      "authorship_tag": "ABX9TyMxBhoYyQr5NpfpaMiGbNug",
      "include_colab_link": true
    },
    "kernelspec": {
      "name": "python3",
      "display_name": "Python 3"
    },
    "language_info": {
      "name": "python"
    }
  },
  "cells": [
    {
      "cell_type": "markdown",
      "metadata": {
        "id": "view-in-github",
        "colab_type": "text"
      },
      "source": [
        "<a href=\"https://colab.research.google.com/github/andanil/Z-RNA-prediction-tool/blob/colab/Z_RNA_prediction_pipeline.ipynb\" target=\"_parent\"><img src=\"https://colab.research.google.com/assets/colab-badge.svg\" alt=\"Open In Colab\"/></a>"
      ]
    },
    {
      "cell_type": "markdown",
      "source": [
        "## Install dependecies and necessary files"
      ],
      "metadata": {
        "id": "F1bRhCmcuK4-"
      }
    },
    {
      "cell_type": "code",
      "execution_count": null,
      "metadata": {
        "id": "P_5y6OS8MA3V"
      },
      "outputs": [],
      "source": [
        "! pip install pysam\n",
        "! pip install -q condacolab"
      ]
    },
    {
      "cell_type": "code",
      "source": [
        "import condacolab\n",
        "condacolab.install()"
      ],
      "metadata": {
        "id": "A0gPnbcbuP83"
      },
      "execution_count": null,
      "outputs": []
    },
    {
      "cell_type": "code",
      "source": [
        "! conda install -y -c bioconda viennarna"
      ],
      "metadata": {
        "id": "Jjwf1fvIuREl"
      },
      "execution_count": null,
      "outputs": []
    },
    {
      "cell_type": "code",
      "source": [
        "! wget http://hgdownload.soe.ucsc.edu/goldenPath/hg38/bigZips/hg38.fa.gz\n",
        "! gzip -d hg38.fa.gz"
      ],
      "metadata": {
        "id": "_vywbzhhuYtY"
      },
      "execution_count": null,
      "outputs": []
    },
    {
      "cell_type": "code",
      "source": [
        "! git clone https://github.com/andanil/Z-RNA-prediction-tool.git"
      ],
      "metadata": {
        "id": "C_W8nwbYucZ_"
      },
      "execution_count": null,
      "outputs": []
    },
    {
      "cell_type": "code",
      "source": [
        "from google.colab import files\n",
        "\n",
        "import pysam\n",
        "import numpy as np\n",
        "import pandas as pd\n",
        "from tqdm import tqdm\n",
        "\n",
        "import sys\n",
        "sys.path.insert(0, \"/content/Z-RNA-prediction-tool\")"
      ],
      "metadata": {
        "id": "SRLIs9ZMudvE"
      },
      "execution_count": null,
      "outputs": []
    },
    {
      "cell_type": "code",
      "source": [
        "from src.config import ZHUNT_FILE\n",
        "\n",
        "! chmod 777 {ZHUNT_FILE}"
      ],
      "metadata": {
        "id": "bJBQAnbRugBF"
      },
      "execution_count": null,
      "outputs": []
    },
    {
      "cell_type": "code",
      "source": [
        "genome = pysam.FastaFile('hg38.fa')"
      ],
      "metadata": {
        "id": "kVgk7J71ugTC"
      },
      "execution_count": null,
      "outputs": []
    },
    {
      "cell_type": "code",
      "source": [
        "from zrna_pipeline.rna.rna_struct import RNA_structure\n",
        "from zrna_pipeline.utils import from_chrom_to_seq_coord, get_seq_around_pos, reverse_region\n",
        "from zrna_pipeline.rna_struct_analyser import get_rna_struct"
      ],
      "metadata": {
        "id": "L99_mtLUujC7"
      },
      "execution_count": null,
      "outputs": []
    },
    {
      "cell_type": "markdown",
      "source": [
        "## Read data"
      ],
      "metadata": {
        "id": "aqwlMntQukhZ"
      }
    },
    {
      "cell_type": "code",
      "source": [
        "# upload file with Z-DNA regions\n",
        "uploaded = files.upload()\n",
        "filename = list(uploaded.keys())[0]"
      ],
      "metadata": {
        "id": "O33PlfmFvu0-"
      },
      "execution_count": null,
      "outputs": []
    },
    {
      "cell_type": "code",
      "source": [
        "zdna_predicted_regions = pd.read_csv(filename, sep='\\t', names=['chr', 'start', 'end'])"
      ],
      "metadata": {
        "id": "Bd-gxXFGvpGY"
      },
      "execution_count": null,
      "outputs": []
    },
    {
      "cell_type": "markdown",
      "source": [
        "## Find regions that fall in stems"
      ],
      "metadata": {
        "id": "JLjEL9-2wFU_"
      }
    },
    {
      "cell_type": "markdown",
      "source": [
        "### Define some useful functions"
      ],
      "metadata": {
        "id": "PTlNwCDMwRtx"
      }
    },
    {
      "cell_type": "code",
      "source": [
        "def overlap(region_1, region_2):\n",
        "    return max(min(region_1[1], region_2[1]) - max(region_1[0], region_2[0]) + 1, 0)\n",
        "\n",
        "def is_overlap_n(zdna_region, stem_coord, n_bp):\n",
        "    if zdna_region[0] > stem_coord[1]:\n",
        "        n_overlap = overlap(zdna_region, [stem_coord[2], stem_coord[3]])\n",
        "    else:\n",
        "        n_overlap = overlap(zdna_region, [stem_coord[0], stem_coord[1]])\n",
        "    if len(stem_coord) == 4:\n",
        "        return (n_overlap >= n_bp, n_overlap, 0)\n",
        "\n",
        "    n_unpaired = 0\n",
        "    for bulge in stem_coord[4]:\n",
        "        overlap_unpaired = overlap(zdna_region, bulge.unpaired)\n",
        "        if overlap_unpaired > 0:\n",
        "            n_unpaired += overlap_unpaired\n",
        "            n_overlap -= overlap_unpaired\n",
        "        elif overlap(zdna_region, bulge.opposite) == 2:\n",
        "            n_unpaired += bulge.len_unpaired()\n",
        "    return (n_overlap >= n_bp, n_overlap, n_unpaired)\n",
        "\n",
        "def is_in_stem(stems_coord, zdna_region):\n",
        "    res = (False, -1, -1)\n",
        "    for stem_coord in stems_coord:\n",
        "        if not (zdna_region[1] < stem_coord[0] or zdna_region[0] > stem_coord[3] or\n",
        "                (zdna_region[0] > stem_coord[1] and zdna_region[1] < stem_coord[2])):\n",
        "            interm_res = is_overlap_n(zdna_region, stem_coord, 6)\n",
        "            if interm_res[1] > res[1]:\n",
        "                res = interm_res\n",
        "    return res\n",
        "\n",
        "def analyse_struct(genome, window, chrom, zdna_region, union=False):\n",
        "    middle = int((zdna_region[0] + zdna_region[1]) / 2)\n",
        "    seq = get_seq_around_pos(genome, chrom, middle, window).upper()\n",
        "    rna_struct = get_rna_struct(seq, -1)\n",
        "    region_in_struct = from_chrom_to_seq_coord(zdna_region, middle, window[0], len(rna_struct))\n",
        "    stems_coord = rna_struct.get_stems_union() if union else rna_struct.get_stems_coord()\n",
        "    result = is_in_stem(stems_coord, region_in_struct)\n",
        "    if not result[0]:\n",
        "        rna_struct.reset_graph_type(False)\n",
        "        stems_coord = rna_struct.get_stems_union() if union else rna_struct.get_stems_coord()\n",
        "        reversed_region = reverse_region(region_in_struct, len(rna_struct))\n",
        "        return (*is_in_stem(stems_coord, reversed_region), '-'), rna_struct\n",
        "    return (*result, '+'), rna_struct\n",
        "\n",
        "def iterate_through_windows(genome, windows, chrom, zdna_region, union=False):\n",
        "    rna_structs = []\n",
        "    results = []\n",
        "    for window in windows:\n",
        "        result, rna_struct = analyse_struct(genome, window, chrom, zdna_region, union)\n",
        "        if result[0]:\n",
        "            rna_structs += [rna_struct]\n",
        "            results += [result]\n",
        "    if not rna_structs:\n",
        "        return result\n",
        "    index = rna_structs.index(max(rna_structs))\n",
        "    return (*results[index], rna_structs[index].z_score, len(rna_structs[index]), len(rna_structs))\n",
        "\n",
        "def is_in_any_stem(genome, windows, chrom, zdna_region):\n",
        "    result = iterate_through_windows(genome, windows, chrom, zdna_region)\n",
        "    if not result[0]:\n",
        "        return iterate_through_windows(genome, windows, chrom, zdna_region, union=True)\n",
        "    return result"
      ],
      "metadata": {
        "id": "Ob8u9mLtwApM"
      },
      "execution_count": null,
      "outputs": []
    },
    {
      "cell_type": "code",
      "source": [
        "def run_search(data, k):\n",
        "    windows = [[150, 150], [250, 250], [500, 500]]\n",
        "    N = 5000\n",
        "    zrna_in_stems = pd.DataFrame()\n",
        "    for i, row in tqdm(data.iterrows(), total=N):\n",
        "        result = is_in_any_stem(genome, windows, row['chr'], (row['start'], row['end']))\n",
        "        if result[0]:\n",
        "            zrna_in_stems = pd.concat([zrna_in_stems, pd.DataFrame([{'chr':row['chr'],\n",
        "                                                                      'start':row['start'],\n",
        "                                                                      'end':row['end'],\n",
        "                                                                      'overlap': result[1],\n",
        "                                                                      'zh-score': result[4],\n",
        "                                                                      'not paired': result[2],\n",
        "                                                                      'window': result[5],\n",
        "                                                                      'strand': result[3],\n",
        "                                                                      'n_structs': result[6]}])],\n",
        "                                      ignore_index=True)\n",
        "    zrna_in_stems.to_csv(f'in_stems_{k}.bed', sep='\\t', index=False)"
      ],
      "metadata": {
        "id": "RLSS7PHGwqzn"
      },
      "execution_count": null,
      "outputs": []
    },
    {
      "cell_type": "markdown",
      "source": [
        "### Searching"
      ],
      "metadata": {
        "id": "f96Pb4pkwafV"
      }
    },
    {
      "cell_type": "code",
      "source": [
        "from multiprocessing import Process\n",
        "\n",
        "def run_parallel(function, data_batches, n):\n",
        "    processes = []\n",
        "    for i, data in enumerate(data_batches):\n",
        "        proc = Process(target=function, args=(data, n + i))\n",
        "        proc.start()\n",
        "        processes.append(proc)\n",
        "    for proc in processes:\n",
        "        proc.join()"
      ],
      "metadata": {
        "id": "7agZldUxw5IR"
      },
      "execution_count": null,
      "outputs": []
    },
    {
      "cell_type": "code",
      "source": [
        "k = 0\n",
        "N = 5000\n",
        "\n",
        "data_list = []\n",
        "while k * N < len(zdna_pred):\n",
        "    data_list += [zdna_pred.iloc[k * N: min((k + 1) * N, len(zdna_pred))]]\n",
        "    k += 1"
      ],
      "metadata": {
        "id": "JtctkkH_zSh9"
      },
      "execution_count": null,
      "outputs": []
    },
    {
      "cell_type": "code",
      "source": [
        "k = 0\n",
        "n = 10\n",
        "while k * n < len(data_list):\n",
        "    run_parallel(run_search, data_list[k * n:  min((k + 1) * n, len(data_list))], n*k)\n",
        "    k += 1"
      ],
      "metadata": {
        "id": "FBPJZsVmzVVY"
      },
      "execution_count": null,
      "outputs": []
    }
  ]
}